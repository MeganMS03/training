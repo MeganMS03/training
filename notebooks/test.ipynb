{
 "cells": [
  {
   "cell_type": "code",
   "execution_count": 1,
   "id": "97e35020-6b19-43be-8a8e-8ce42ae801b8",
   "metadata": {},
   "outputs": [],
   "source": [
    "def ciao():\n",
    "    print(\"ciao\")"
   ]
  },
  {
   "cell_type": "code",
   "execution_count": 2,
   "id": "4671cb0b-b39c-4c93-87da-630f21d54a6d",
   "metadata": {},
   "outputs": [
    {
     "name": "stdout",
     "output_type": "stream",
     "text": [
      "ciao\n"
     ]
    }
   ],
   "source": [
    "ciao()"
   ]
  },
  {
   "cell_type": "code",
   "execution_count": 5,
   "id": "af1bd5ca-1fc8-4d09-ac75-1c956fdf532d",
   "metadata": {},
   "outputs": [],
   "source": [
    "import sys\n",
    "import os\n",
    "sys.path.append(os.path.abspath(\"../\"))"
   ]
  },
  {
   "cell_type": "code",
   "execution_count": 15,
   "id": "eede0306-c4cf-46ec-8a8b-1b0a997b399b",
   "metadata": {},
   "outputs": [],
   "source": [
    "import src.test as test"
   ]
  },
  {
   "cell_type": "code",
   "execution_count": 16,
   "id": "d215e91b-562d-4a3b-bc6e-34769da32349",
   "metadata": {},
   "outputs": [
    {
     "name": "stdout",
     "output_type": "stream",
     "text": [
      "ciao\n"
     ]
    }
   ],
   "source": [
    "test.ciao()"
   ]
  },
  {
   "cell_type": "code",
   "execution_count": null,
   "id": "7acae8d6-2bbb-4679-abcc-9e5e894d27df",
   "metadata": {},
   "outputs": [],
   "source": []
  }
 ],
 "metadata": {
  "kernelspec": {
   "display_name": "Python 3 (ipykernel)",
   "language": "python",
   "name": "python3"
  },
  "language_info": {
   "codemirror_mode": {
    "name": "ipython",
    "version": 3
   },
   "file_extension": ".py",
   "mimetype": "text/x-python",
   "name": "python",
   "nbconvert_exporter": "python",
   "pygments_lexer": "ipython3",
   "version": "3.10.9"
  }
 },
 "nbformat": 4,
 "nbformat_minor": 5
}
